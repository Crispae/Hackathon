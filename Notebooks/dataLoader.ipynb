{
 "cells": [
  {
   "cell_type": "code",
   "execution_count": null,
   "metadata": {},
   "outputs": [],
   "source": [
    "from datasets import load_dataset\n",
    "from PIL import Image   \n",
    "\n",
    "ds = load_dataset(\"detection-datasets/fashionpedia\")\n"
   ]
  },
  {
   "cell_type": "code",
   "execution_count": null,
   "metadata": {},
   "outputs": [],
   "source": [
    "for idx,image in enumerate(ds['val'][:100][\"image\"]):\n",
    "    if isinstance(image, Image.Image):\n",
    "        # Define the path to save the image\n",
    "        image_path = f\"fashion\\\\fashion_image_{idx}.jpg\"  # Change the filename as needed\n",
    "\n",
    "        # Save the image\n",
    "        image.save(image_path)\n",
    "        print(f'Saved image to {image_path}')"
   ]
  },
  {
   "cell_type": "code",
   "execution_count": 15,
   "metadata": {},
   "outputs": [],
   "source": [
    "from fastAPI.services.pix import Pixtral\n",
    "model = Pixtral(api_key=\"XXXXXX\",\n",
    "                 model_name=\"pixtral-12b-2409\")"
   ]
  },
  {
   "cell_type": "code",
   "execution_count": 17,
   "metadata": {},
   "outputs": [],
   "source": [
    "prompt = \"\"\"\n",
    "Analyze the given image of clothing and generate a detailed description that includes the following aspects:\n",
    "\n",
    "Color: Describe the predominant colors present in the clothing item, including any patterns or combinations.\n",
    "\n",
    "Length: Indicate the length of the garment (e.g., full-length, knee-length, cropped, etc.).\n",
    "\n",
    "Textile: Identify the fabric or material of the clothing, such as cotton, silk, denim, etc.\n",
    "\n",
    "Fitting: Describe the fit of the garment (e.g., loose, fitted, oversized, tailored).\n",
    "\n",
    "Styles: Mention the style of the clothing (e.g., casual, formal, sporty, bohemian, etc.).\n",
    "\n",
    "Textile Patterns: Include any patterns or prints present on the textile (e.g., floral, striped, polka dots).\n",
    "\n",
    "Ocassion: Specify the occasion of the clothing (e.g., work, formal, casual, party etc.)\n",
    "\n",
    "companions: With whom the person should wear the clothing.\n",
    "\n",
    "Please provide a comprehensive and vivid description based on these aspects, highlighting unique features and characteristics of the clothing item shown in the image.\"\"\""
   ]
  },
  {
   "cell_type": "code",
   "execution_count": 13,
   "metadata": {},
   "outputs": [],
   "source": [
    "image_encoding = model.file_to_data_url(\"fashion\\\\fashion_image_0.jpg\")\n",
    "response = model.complete(prompt,image_base46_encoding=image_encoding)\n",
    "response.dict().get(\"choices\")[0].get(\"message\").get(\"content\")"
   ]
  },
  {
   "cell_type": "code",
   "execution_count": 21,
   "metadata": {},
   "outputs": [],
   "source": [
    "import pandas as pd\n",
    "results = []"
   ]
  },
  {
   "cell_type": "code",
   "execution_count": null,
   "metadata": {},
   "outputs": [],
   "source": []
  },
  {
   "cell_type": "code",
   "execution_count": 1,
   "metadata": {},
   "outputs": [],
   "source": [
    "from fastAPI.services.faiss_db import DenseSearchFAISS\n",
    "import pandas as pd\n",
    "\n",
    "for idx in range(192,193):\n",
    "    \n",
    "    # Save the image temporarily for encoding\n",
    "    temp_image_path = f\"men_fashion\\\\fashion_image_{idx}.jpg\"\n",
    "    \n",
    "    # Encode the image to base64\n",
    "    image_encoding = model.file_to_data_url(temp_image_path)\n",
    "\n",
    "    # Generate the description using your model\n",
    "    response = model.complete(prompt,\n",
    "                              image_base46_encoding=image_encoding)\n",
    "\n",
    "    # Extract the content\n",
    "    description = response.dict().get(\"choices\")[0].get(\"message\").get(\"content\")\n",
    "    \n",
    "    # Store the results\n",
    "    results.append({\n",
    "        \"image_filename\": temp_image_path,\n",
    "        \"description\": description\n",
    "    })\n",
    "\n",
    "    # Convert the results to a DataFrame\n",
    "    results_df = pd.DataFrame(results)\n",
    "\n",
    "    # Save the results to a CSV file\n",
    "    results_df.to_csv(\"men_fashion_descriptions3.csv\", index=False)\n",
    "    print(f\"Descriptions saved to fashion_descriptions {idx}.csv\")"
   ]
  },
  {
   "cell_type": "code",
   "execution_count": 2,
   "metadata": {},
   "outputs": [
    {
     "name": "stdout",
     "output_type": "stream",
     "text": [
      "FAISS index and IDs loaded from disk.\n"
     ]
    }
   ],
   "source": [
    "db = DenseSearchFAISS(embedding_model=\"mistral-embed\",\n",
    "                      api_key=\"XXXXXXXXXXX\",\n",
    "                     dimension=1024,\n",
    "                     base_path=r\"C:\\Users\\saurav\\OneDrive - URV\\Escritorio\\Hackathon\\images\",\n",
    "                     prefix=\"fashion_image\",\n",
    "                     suffix=\"jpg\"\n",
    "                     )"
   ]
  },
  {
   "cell_type": "code",
   "execution_count": 5,
   "metadata": {},
   "outputs": [],
   "source": [
    "# Load data\n",
    "df = pd.read_csv(\"fashion_descriptions.csv\")"
   ]
  },
  {
   "cell_type": "code",
   "execution_count": 7,
   "metadata": {},
   "outputs": [],
   "source": [
    "# Add documents to the FAISS index in batches\n",
    "descriptions = df[\"description\"].tolist()\n",
    "ids = list(range(0, 100))"
   ]
  },
  {
   "cell_type": "code",
   "execution_count": 8,
   "metadata": {},
   "outputs": [],
   "source": [
    "# Function to chunk the list\n",
    "def chunk_list(data, chunk_size):\n",
    "    for i in range(0, len(data), chunk_size):\n",
    "        yield data[i:i + chunk_size]"
   ]
  },
  {
   "cell_type": "code",
   "execution_count": null,
   "metadata": {},
   "outputs": [],
   "source": [
    "batch_size = 5\n",
    "description_batches = list(chunk_list(descriptions, batch_size))\n",
    "id_batches = list(chunk_list(ids, batch_size))\n",
    "\n",
    "for desc_batch, id_batch in zip(description_batches, id_batches):\n",
    "    db.add_documents(documents=desc_batch, ids=id_batch)\n",
    "    print(f\"Added batch: {id_batch}\")\n"
   ]
  },
  {
   "cell_type": "code",
   "execution_count": 3,
   "metadata": {},
   "outputs": [],
   "source": [
    "query = \"I want to buy a green pant can you show, which is suitable for casual wear. it should be for man\"\n",
    "res = db.search(query, k=5,encoded=True)"
   ]
  }
 ],
 "metadata": {
  "kernelspec": {
   "display_name": "Hackathon",
   "language": "python",
   "name": "python3"
  },
  "language_info": {
   "codemirror_mode": {
    "name": "ipython",
    "version": 3
   },
   "file_extension": ".py",
   "mimetype": "text/x-python",
   "name": "python",
   "nbconvert_exporter": "python",
   "pygments_lexer": "ipython3",
   "version": "3.9.19"
  }
 },
 "nbformat": 4,
 "nbformat_minor": 2
}
