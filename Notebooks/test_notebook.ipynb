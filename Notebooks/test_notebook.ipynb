{
 "cells": [
  {
   "cell_type": "code",
   "execution_count": 1,
   "metadata": {},
   "outputs": [],
   "source": [
    "from fastAPI.services.pix import Pixtral\n",
    "model = Pixtral(api_key=\"xxxxxxxxxxxxxxxx\",\n",
    "                model_name=\"pixtral-12b-2409\")"
   ]
  },
  {
   "cell_type": "code",
   "execution_count": 3,
   "metadata": {},
   "outputs": [],
   "source": [
    "prompt= \"Provide the recommedation regarding clothing for the following product\""
   ]
  },
  {
   "cell_type": "code",
   "execution_count": 4,
   "metadata": {},
   "outputs": [],
   "source": [
    "encoding = model.file_to_data_url(r\"images/image1.jpg\")"
   ]
  },
  {
   "cell_type": "code",
   "execution_count": 6,
   "metadata": {},
   "outputs": [],
   "source": [
    "res = model.complete(prompt=prompt,image_base46_encoding=encoding)"
   ]
  },
  {
   "cell_type": "code",
   "execution_count": 7,
   "metadata": {},
   "outputs": [
    {
     "name": "stdout",
     "output_type": "stream",
     "text": [
      "Sure! Based on the image, here's a recommendation regarding the clothing:\n",
      "\n",
      "**Product Description:**\n",
      "The outfit consists of a cropped gray hoodie paired with ripped light blue denim shorts. The model is also wearing black thigh-high lace-up boots with a textured pattern.\n",
      "\n",
      "**Recommendation:**\n",
      "This casual yet stylish outfit is perfect for a variety of occasions, such as a day out with friends, a casual date, or a relaxed evening out. Here are some tips to enhance the look:\n",
      "\n",
      "1. **Layering:** Since the hoodie is cropped, you can add a simple white or black tank top underneath to provide coverage while maintaining the cropped look.\n",
      "\n",
      "2. **Accessories:** Add a statement belt to your denim shorts to accentuate your waist. Also, consider wearing some layered jewelry, like a delicate necklace or stackable bracelets, to add a touch of elegance.\n",
      "\n",
      "3. **Footwear:** The black lace-up boots are bold and stylish. If you want a more casual look, consider switching to ankle boots or sneakers. For a dressier occasion, you could opt for heeled boots.\n",
      "\n",
      "4. **Outerwear:** For cooler weather, pair the outfit with a denim jacket or a stylish leather jacket to keep warm while still maintaining the outfit's overall aesthetic.\n",
      "\n",
      "5. **Makeup and Hair:** To complement this look, go for a natural makeup style with a focus on your eyes or lips. For your hair, consider a messy bun, loose waves, or straight hair to keep the look casual and chic.\n",
      "\n",
      "This outfit blends comfort with fashion and can be easily customized to suit various personal styles and occasions.\n"
     ]
    }
   ],
   "source": [
    "print(res.dict()[\"choices\"][0][\"message\"].get(\"content\"))"
   ]
  },
  {
   "cell_type": "code",
   "execution_count": null,
   "metadata": {},
   "outputs": [],
   "source": []
  }
 ],
 "metadata": {
  "kernelspec": {
   "display_name": "Hackathon",
   "language": "python",
   "name": "python3"
  },
  "language_info": {
   "codemirror_mode": {
    "name": "ipython",
    "version": 3
   },
   "file_extension": ".py",
   "mimetype": "text/x-python",
   "name": "python",
   "nbconvert_exporter": "python",
   "pygments_lexer": "ipython3",
   "version": "3.9.19"
  }
 },
 "nbformat": 4,
 "nbformat_minor": 2
}
